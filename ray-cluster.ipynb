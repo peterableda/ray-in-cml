{
 "cells": [
  {
   "cell_type": "markdown",
   "id": "8e746be0-6da2-4c33-884e-24e97bfe5505",
   "metadata": {},
   "source": [
    "# Ray"
   ]
  },
  {
   "cell_type": "markdown",
   "id": "60f22f12-d853-42e2-84d0-040885cbb5ba",
   "metadata": {},
   "source": [
    "[Ray](https://docs.ray.io/en/master/index.html) is a unified framework for scaling AI and Python applications. In this notebook, we'll walk through how to set up a Ray cluster in CML."
   ]
  },
  {
   "cell_type": "markdown",
   "id": "2e468f0b-2cd4-461a-9f01-8cf6aa8413fd",
   "metadata": {},
   "source": [
    "## Set up a Ray cluster"
   ]
  },
  {
   "attachments": {
    "4c657b87-120e-4466-9efa-e324e46b4395.png": {
     "image/png": "[encoded data removed]"
    }
   },
   "cell_type": "markdown",
   "id": "f8999346-0558-4306-8f91-d19164f25fb0",
   "metadata": {},
   "source": [
    "A Ray cluster is a set of worker nodes connected to a common Ray head node. Each node runs Ray helper processes to facilitate distributed scheduling and memory management. The head node runs additional control processes (highlighted in blue)\"\n",
    "\n",
    "![image.png](attachment:4c657b87-120e-4466-9efa-e324e46b4395.png)\n",
    "\n",
    "In this example we will create this infrastructure in CML via the [Workers API](https://docs.cloudera.com/machine-learning/cloud/distributed-computing/topics/ml-workers-api.html) and connect to it from this CML Session. "
   ]
  },
  {
   "cell_type": "code",
   "execution_count": 1,
   "id": "a2c5e83d-3f2c-425d-87d5-998251f1739e",
   "metadata": {},
   "outputs": [],
   "source": [
    "# %pip install ray[default]"
   ]
  },
  {
   "cell_type": "code",
   "execution_count": 1,
   "id": "961d0ece-4ff1-46b6-aa81-1c6c1a1ffade",
   "metadata": {},
   "outputs": [],
   "source": [
    "import os\n",
    "import cdsw\n",
    "import ray"
   ]
  },
  {
   "cell_type": "markdown",
   "id": "9ef56ead-c0ee-489f-a313-9da3134666ce",
   "metadata": {},
   "source": [
    "## Start Ray head node"
   ]
  },
  {
   "cell_type": "markdown",
   "id": "e79f1a9a-4c08-463c-8bd4-aaaa6e779068",
   "metadata": {},
   "source": [
    "Every Ray cluster has one node which is designated as the head node of the cluster. The head node is identical to other worker nodes, except that it also runs singleton processes responsible for cluster management such as the autoscaler and the Ray driver processes which run Ray jobs. Ray may schedule tasks and actors on the head node just like any other worker node, unless configured otherwise.\n"
   ]
  },
  {
   "cell_type": "code",
   "execution_count": 2,
   "id": "5eb15910-acc3-4d57-a75c-45f573f42e44",
   "metadata": {},
   "outputs": [],
   "source": [
    "DASHBOARD_PORT = os.environ['CDSW_APP_PORT']\n",
    "\n",
    "# We need to start the ray process with --block else the command completes and the CML Worker terminates\n",
    "head_start_cmd = f\"!ray start --head --block --include-dashboard=true --dashboard-port={DASHBOARD_PORT}\"\n",
    "ray_head = cdsw.launch_workers(\n",
    "    n=1,\n",
    "    cpu=2,\n",
    "    memory=4,\n",
    "    code=head_start_cmd,\n",
    ")\n",
    "\n",
    "ray_head_details = cdsw.await_workers(\n",
    "  ray_head, \n",
    "  wait_for_completion=False, \n",
    "  timeout_seconds=90\n",
    ")"
   ]
  },
  {
   "cell_type": "markdown",
   "id": "7293c1a9-368b-4887-bf6f-d37974c1d5e0",
   "metadata": {},
   "source": [
    "Once we have the ray head node running we need to get its IP address that the worker nodes need to join the cluster. "
   ]
  },
  {
   "cell_type": "code",
   "execution_count": 3,
   "id": "2e3ed19c-80dc-4e95-9a7b-95038f15a93c",
   "metadata": {},
   "outputs": [
    {
     "data": {
      "text/plain": [
       "'100.100.233.153:6379'"
      ]
     },
     "execution_count": 3,
     "metadata": {},
     "output_type": "execute_result"
    }
   ],
   "source": [
    "ray_head_ip = ray_head_details['workers'][0]['ip_address']\n",
    "ray_head_addr = ray_head_ip + ':6379'\n",
    "ray_head_addr"
   ]
  },
  {
   "cell_type": "markdown",
   "id": "9d69ca70-8e1d-4cb9-8cf7-dbb02c9cecef",
   "metadata": {},
   "source": [
    "## Start Ray worker nodes"
   ]
  },
  {
   "cell_type": "markdown",
   "id": "b48ac596-bf8d-4d5e-b65c-ab6aa38560b4",
   "metadata": {},
   "source": [
    "Worker nodes do not run any head node management processes, and serve only to run user code in Ray tasks and actors. They participate in distributed scheduling, as well as the storage and distribution of Ray objects in cluster memory.\n",
    "\n"
   ]
  },
  {
   "cell_type": "code",
   "execution_count": 4,
   "id": "d90fbbd3-4398-4fc4-9df8-a5fea99033f4",
   "metadata": {},
   "outputs": [],
   "source": [
    "# Creating 2 workers in addition to the Head Node\n",
    "num_workers=2\n",
    "\n",
    "# We need to start the ray process with --block else the command completes and the CML Worker terminates\n",
    "worker_start_cmd = f\"!ray start --block --address={ray_head_addr}\"\n",
    "\n",
    "ray_workers = cdsw.launch_workers(\n",
    "    n=num_workers, \n",
    "    cpu=2, \n",
    "    memory=4, \n",
    "    code=worker_start_cmd,\n",
    ")\n",
    "\n",
    "ray_worker_details = cdsw.await_workers(\n",
    "    ray_workers, \n",
    "    wait_for_completion=False)\n"
   ]
  },
  {
   "cell_type": "markdown",
   "id": "bd9b0b69-42f4-4562-93f7-39375a5f2b09",
   "metadata": {},
   "source": [
    "Once the cluster is created on the CML Workers we can connect to it from the this Session."
   ]
  },
  {
   "cell_type": "markdown",
   "id": "1ff8f2d0-a171-4140-a0a9-0b4240cbabea",
   "metadata": {},
   "source": [
    "## Open the Ray dashboard"
   ]
  },
  {
   "cell_type": "markdown",
   "id": "e95704cd-317d-4897-8f98-393be8e37e1b",
   "metadata": {},
   "source": [
    "Ray’s built-in dashboard provides metrics, charts, and other features that help Ray users to understand Ray clusters and libraries."
   ]
  },
  {
   "cell_type": "code",
   "execution_count": 5,
   "id": "c9c325bd-eebe-4414-81db-c74d1dfca15e",
   "metadata": {},
   "outputs": [
    {
     "data": {
      "text/plain": [
       "'https://mh0tyoulxz0kyjhj.ml-4c5feac0-3ec.go01-dem.ylcu-atmi.cloudera.site/'"
      ]
     },
     "execution_count": 5,
     "metadata": {},
     "output_type": "execute_result"
    }
   ],
   "source": [
    "dashboard_url = ray_head_details['workers'][0]['app_url']\n",
    "dashboard_url"
   ]
  },
  {
   "cell_type": "code",
   "execution_count": 6,
   "id": "64aee3f0-aa8b-49f9-9f36-fc3699ca67a0",
   "metadata": {},
   "outputs": [
    {
     "data": {
      "text/html": [
       "\n",
       "        <iframe\n",
       "            width=\"700\"\n",
       "            height=\"600\"\n",
       "            src=\"https://mh0tyoulxz0kyjhj.ml-4c5feac0-3ec.go01-dem.ylcu-atmi.cloudera.site/\"\n",
       "            frameborder=\"0\"\n",
       "            allowfullscreen\n",
       "            \n",
       "        ></iframe>\n",
       "        "
      ],
      "text/plain": [
       "<IPython.lib.display.IFrame at 0x7ff9f8208fd0>"
      ]
     },
     "execution_count": 6,
     "metadata": {},
     "output_type": "execute_result"
    }
   ],
   "source": [
    "from IPython.display import IFrame\n",
    "IFrame(src=dashboard_url, width=700, height=600)"
   ]
  },
  {
   "cell_type": "markdown",
   "id": "c558b1a1-d39b-4fd9-83e7-6bd6ece30c8d",
   "metadata": {},
   "source": [
    "## Connect to the Ray cluster"
   ]
  },
  {
   "cell_type": "code",
   "execution_count": 19,
   "id": "5b2d78fc-d692-4d69-ad20-840a037d97dd",
   "metadata": {},
   "outputs": [
    {
     "data": {
      "text/html": [
       "<div>\n",
       "    <div style=\"margin-left: 50px;display: flex;flex-direction: row;align-items: center\">\n",
       "        <h3 style=\"color: var(--jp-ui-font-color0)\">Ray</h3>\n",
       "        <svg version=\"1.1\" id=\"ray\" width=\"3em\" viewBox=\"0 0 144.5 144.6\" style=\"margin-left: 3em;margin-right: 3em\">\n",
       "            <g id=\"layer-1\">\n",
       "                <path fill=\"#00a2e9\" class=\"st0\" d=\"M97.3,77.2c-3.8-1.1-6.2,0.9-8.3,5.1c-3.5,6.8-9.9,9.9-17.4,9.6S58,88.1,54.8,81.2c-1.4-3-3-4-6.3-4.1\n",
       "                    c-5.6-0.1-9.9,0.1-13.1,6.4c-3.8,7.6-13.6,10.2-21.8,7.6C5.2,88.4-0.4,80.5,0,71.7c0.1-8.4,5.7-15.8,13.8-18.2\n",
       "                    c8.4-2.6,17.5,0.7,22.3,8c1.3,1.9,1.3,5.2,3.6,5.6c3.9,0.6,8,0.2,12,0.2c1.8,0,1.9-1.6,2.4-2.8c3.5-7.8,9.7-11.8,18-11.9\n",
       "                    c8.2-0.1,14.4,3.9,17.8,11.4c1.3,2.8,2.9,3.6,5.7,3.3c1-0.1,2,0.1,3,0c2.8-0.5,6.4,1.7,8.1-2.7s-2.3-5.5-4.1-7.5\n",
       "                    c-5.1-5.7-10.9-10.8-16.1-16.3C84,38,81.9,37.1,78,38.3C66.7,42,56.2,35.7,53,24.1C50.3,14,57.3,2.8,67.7,0.5\n",
       "                    C78.4-2,89,4.7,91.5,15.3c0.1,0.3,0.1,0.5,0.2,0.8c0.7,3.4,0.7,6.9-0.8,9.8c-1.7,3.2-0.8,5,1.5,7.2c6.7,6.5,13.3,13,19.8,19.7\n",
       "                    c1.8,1.8,3,2.1,5.5,1.2c9.1-3.4,17.9-0.6,23.4,7c4.8,6.9,4.6,16.1-0.4,22.9c-5.4,7.2-14.2,9.9-23.1,6.5c-2.3-0.9-3.5-0.6-5.1,1.1\n",
       "                    c-6.7,6.9-13.6,13.7-20.5,20.4c-1.8,1.8-2.5,3.2-1.4,5.9c3.5,8.7,0.3,18.6-7.7,23.6c-7.9,5-18.2,3.8-24.8-2.9\n",
       "                    c-6.4-6.4-7.4-16.2-2.5-24.3c4.9-7.8,14.5-11,23.1-7.8c3,1.1,4.7,0.5,6.9-1.7C91.7,98.4,98,92.3,104.2,86c1.6-1.6,4.1-2.7,2.6-6.2\n",
       "                    c-1.4-3.3-3.8-2.5-6.2-2.6C99.8,77.2,98.9,77.2,97.3,77.2z M72.1,29.7c5.5,0.1,9.9-4.3,10-9.8c0-0.1,0-0.2,0-0.3\n",
       "                    C81.8,14,77,9.8,71.5,10.2c-5,0.3-9,4.2-9.3,9.2c-0.2,5.5,4,10.1,9.5,10.3C71.8,29.7,72,29.7,72.1,29.7z M72.3,62.3\n",
       "                    c-5.4-0.1-9.9,4.2-10.1,9.7c0,0.2,0,0.3,0,0.5c0.2,5.4,4.5,9.7,9.9,10c5.1,0.1,9.9-4.7,10.1-9.8c0.2-5.5-4-10-9.5-10.3\n",
       "                    C72.6,62.3,72.4,62.3,72.3,62.3z M115,72.5c0.1,5.4,4.5,9.7,9.8,9.9c5.6-0.2,10-4.8,10-10.4c-0.2-5.4-4.6-9.7-10-9.7\n",
       "                    c-5.3-0.1-9.8,4.2-9.9,9.5C115,72.1,115,72.3,115,72.5z M19.5,62.3c-5.4,0.1-9.8,4.4-10,9.8c-0.1,5.1,5.2,10.4,10.2,10.3\n",
       "                    c5.6-0.2,10-4.9,9.8-10.5c-0.1-5.4-4.5-9.7-9.9-9.6C19.6,62.3,19.5,62.3,19.5,62.3z M71.8,134.6c5.9,0.2,10.3-3.9,10.4-9.6\n",
       "                    c0.5-5.5-3.6-10.4-9.1-10.8c-5.5-0.5-10.4,3.6-10.8,9.1c0,0.5,0,0.9,0,1.4c-0.2,5.3,4,9.8,9.3,10\n",
       "                    C71.6,134.6,71.7,134.6,71.8,134.6z\"/>\n",
       "            </g>\n",
       "        </svg>\n",
       "        <table>\n",
       "            <tr>\n",
       "                <td style=\"text-align: left\"><b>Python version:</b></td>\n",
       "                <td style=\"text-align: left\"><b>3.9.11</b></td>\n",
       "            </tr>\n",
       "            <tr>\n",
       "                <td style=\"text-align: left\"><b>Ray version:</b></td>\n",
       "                <td style=\"text-align: left\"><b> 2.0.0</b></td>\n",
       "            </tr>\n",
       "            <tr>\n",
       "    <td style=\"text-align: left\"><b>Dashboard:</b></td>\n",
       "    <td style=\"text-align: left\"><b><a href=\"http://127.0.0.1:8100\" target=\"_blank\">http://127.0.0.1:8100</a></b></td>\n",
       "</tr>\n",
       "\n",
       "        </table>\n",
       "    </div>\n",
       "</div>\n"
      ],
      "text/plain": [
       "ClientContext(dashboard_url='127.0.0.1:8100', python_version='3.9.11', ray_version='2.0.0', ray_commit='cba26cc83f6b5b8a2ff166594a65cb74c0ec8740', protocol_version='2022-07-24', _num_clients=1, _context_to_restore=<ray.util.client._ClientContext object at 0x7fba33648d00>)"
      ]
     },
     "execution_count": 19,
     "metadata": {},
     "output_type": "execute_result"
    }
   ],
   "source": [
    "ray_url = f\"ray://{ray_head_ip}:10001\" \n",
    "ray.init(ray_url)\n",
    "\n",
    "# The dashboard is running in the Head node, the dashboard url pointing to localhost below is incorrect."
   ]
  },
  {
   "cell_type": "markdown",
   "id": "bd1987ac-1051-4000-9e5c-577ad0442fcd",
   "metadata": {},
   "source": [
    "## Run a Ray example on the cluster"
   ]
  },
  {
   "cell_type": "markdown",
   "id": "770502d8-f487-4bf5-97c7-a02719beba6d",
   "metadata": {},
   "source": [
    "Users can submit jobs for execution on the Ray cluster, or can interactively use the cluster by connecting to the head node and running ray.init. We are doing interactive development h"
   ]
  },
  {
   "cell_type": "code",
   "execution_count": 10,
   "id": "36d861d2-26b2-407d-ad9d-8f392263d28a",
   "metadata": {},
   "outputs": [
    {
     "name": "stdout",
     "output_type": "stream",
     "text": [
      "[0, 1, 4, 9]\n"
     ]
    }
   ],
   "source": [
    "# Define the square task.\n",
    "@ray.remote\n",
    "def square(x):\n",
    "    return x * x\n",
    "\n",
    "# Launch four parallel square tasks.\n",
    "futures = [square.remote(i) for i in range(4)]\n",
    "\n",
    "# Retrieve results.\n",
    "print(ray.get(futures))"
   ]
  },
  {
   "cell_type": "markdown",
   "id": "c5cbae5d-6001-47a2-ac91-a3e04ffa60f8",
   "metadata": {},
   "source": [
    "## Cleaning up\n"
   ]
  },
  {
   "cell_type": "code",
   "execution_count": 11,
   "id": "76aa78e3-b333-4a74-b5fd-35c040152ce4",
   "metadata": {},
   "outputs": [
    {
     "name": "stderr",
     "output_type": "stream",
     "text": [
      "Log channel is reconnecting. Logs produced while the connection was down can be found on the head node of the cluster in `ray_client_server_[port].out`\n",
      "2022-09-06 12:02:25,362\tWARNING dataclient.py:395 -- Encountered connection issues in the data channel. Attempting to reconnect.\n"
     ]
    },
    {
     "data": {
      "text/plain": [
       "[<Response [204]>, <Response [204]>, <Response [204]>]"
      ]
     },
     "execution_count": 11,
     "metadata": {},
     "output_type": "execute_result"
    },
    {
     "name": "stderr",
     "output_type": "stream",
     "text": [
      "2022-09-06 12:02:55,577\tWARNING dataclient.py:402 -- Failed to reconnect the data channel\n"
     ]
    }
   ],
   "source": [
    "cdsw.stop_workers()"
   ]
  }
 ],
 "metadata": {
  "kernelspec": {
   "display_name": "Python 3 (ipykernel)",
   "language": "python",
   "name": "python3"
  },
  "language_info": {
   "codemirror_mode": {
    "name": "ipython",
    "version": 3
   },
   "file_extension": ".py",
   "mimetype": "text/x-python",
   "name": "python",
   "nbconvert_exporter": "python",
   "pygments_lexer": "ipython3",
   "version": "3.9.11"
  }
 },
 "nbformat": 4,
 "nbformat_minor": 5
}
